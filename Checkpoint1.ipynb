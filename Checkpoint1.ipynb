{
  "nbformat": 4,
  "nbformat_minor": 0,
  "metadata": {
    "colab": {
      "name": "Checkpoint1.ipynb",
      "provenance": [],
      "collapsed_sections": []
    },
    "kernelspec": {
      "name": "python3",
      "display_name": "Python 3"
    },
    "language_info": {
      "name": "python"
    }
  },
  "cells": [
    {
      "cell_type": "code",
      "execution_count": 2,
      "metadata": {
        "colab": {
          "base_uri": "https://localhost:8080/"
        },
        "id": "kbirEcRsCz91",
        "outputId": "0070d749-6549-41f2-fcd7-c3d8fbd3057a"
      },
      "outputs": [
        {
          "output_type": "stream",
          "name": "stdout",
          "text": [
            "bienvenue au monde pyhton, commençons à coder\n"
          ]
        }
      ],
      "source": [
        "print(\"bienvenue au monde pyhton, commençons à coder\")\n"
      ]
    }
  ]
}